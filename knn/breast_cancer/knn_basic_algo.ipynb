{
 "cells": [
  {
   "cell_type": "code",
   "execution_count": 45,
   "metadata": {},
   "outputs": [],
   "source": [
    "\"\"\"\n",
    "Basic algorithm of k- Nearest Neighbours. Euclidean distance of the test point\n",
    "from every other point is calculated. The distances are sorted in ascending order.\n",
    "The votes of a point to be in either class are given according to the first 'k' distances\n",
    "The point is classified into the group with maximum votes\n",
    "\"\"\"\n",
    "\n",
    "from math import sqrt\n",
    "import numpy as np\n",
    "import matplotlib.pyplot as plt\n",
    "import warnings\n",
    "from matplotlib import style\n",
    "from collections import Counter\n",
    "style.use('fivethirtyeight')\n",
    "\n",
    "%matplotlib inline"
   ]
  },
  {
   "cell_type": "code",
   "execution_count": 55,
   "metadata": {},
   "outputs": [
    {
     "data": {
      "text/plain": [
       "<matplotlib.collections.PathCollection at 0x7f77ed989f60>"
      ]
     },
     "execution_count": 55,
     "metadata": {},
     "output_type": "execute_result"
    },
    {
     "data": {
      "image/png": "[encoded data removed]",
      "text/plain": [
       "<Figure size 432x288 with 1 Axes>"
      ]
     },
     "metadata": {
      "needs_background": "light"
     },
     "output_type": "display_data"
    }
   ],
   "source": [
    "dataset = {'black': [[1, 2], [2, 3], [2, 1], [1, 4]], 'red':[[6, 5], [6, 6], [7, 8], [7, 7]]}\n",
    "# point to be classified\n",
    "new_point = [3, 5]\n",
    "\n",
    "for i in dataset:\n",
    "    for point in dataset[i]:\n",
    "        plt.scatter(point[0], point[1], s=100, color=i)\n",
    "        \n",
    "plt.scatter(new_point[0], new_point[1], s=100, color='g')"
   ]
  },
  {
   "cell_type": "code",
   "execution_count": 56,
   "metadata": {},
   "outputs": [],
   "source": [
    "# data: test set, predict: point to be classified\n",
    "def k_nearest_neighbours(data, predict, k=3):\n",
    "    if len(data) >= k:\n",
    "        warnings.warn('Too few votes')\n",
    "    distances = []\n",
    "    for group in data:\n",
    "        for features in data[group]:\n",
    "            # euclidean_distance = np.sqrt(np.sum(np.array(features)-np.array(predict))**2)\n",
    "            euclidean_distance = np.linalg.norm(np.array(features) - np.array(predict))\n",
    "            distances.append([euclidean_distance, group])\n",
    "    \n",
    "    # giving the grup for the point. we choose the top threee votes in this case. 2:1 voting\n",
    "    votes = [i[1] for i in sorted(distances)[:k]]\n",
    "    result = Counter(votes).most_common(1)[0][0]\n",
    "    confidence = Counter(votes).most_common(1)[0][1] / k\n",
    "    return result, confidence"
   ]
  },
  {
   "cell_type": "code",
   "execution_count": 57,
   "metadata": {},
   "outputs": [
    {
     "name": "stdout",
     "output_type": "stream",
     "text": [
      "('black', 0.6666666666666666)\n"
     ]
    }
   ],
   "source": [
    "new_result = k_nearest_neighbours(dataset, new_point, k=3)\n",
    "print(new_result)"
   ]
  },
  {
   "cell_type": "code",
   "execution_count": null,
   "metadata": {},
   "outputs": [],
   "source": []
  }
 ],
 "metadata": {
  "kernelspec": {
   "display_name": "Python 3",
   "language": "python",
   "name": "python3"
  },
  "language_info": {
   "codemirror_mode": {
    "name": "ipython",
    "version": 3
   },
   "file_extension": ".py",
   "mimetype": "text/x-python",
   "name": "python",
   "nbconvert_exporter": "python",
   "pygments_lexer": "ipython3",
   "version": "3.7.3"
  }
 },
 "nbformat": 4,
 "nbformat_minor": 2
}
