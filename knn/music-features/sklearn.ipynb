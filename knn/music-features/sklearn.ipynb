{
 "cells": [
  {
   "cell_type": "code",
   "execution_count": 3,
   "metadata": {},
   "outputs": [],
   "source": [
    "import numpy as np\n",
    "import pandas as pd\n",
    "from sklearn import neighbors\n",
    "from sklearn.model_selection import train_test_split"
   ]
  },
  {
   "cell_type": "code",
   "execution_count": 5,
   "metadata": {},
   "outputs": [
    {
     "data": {
      "text/html": [
       "<div>\n",
       "<style scoped>\n",
       "    .dataframe tbody tr th:only-of-type {\n",
       "        vertical-align: middle;\n",
       "    }\n",
       "\n",
       "    .dataframe tbody tr th {\n",
       "        vertical-align: top;\n",
       "    }\n",
       "\n",
       "    .dataframe thead th {\n",
       "        text-align: right;\n",
       "    }\n",
       "</style>\n",
       "<table border=\"1\" class=\"dataframe\">\n",
       "  <thead>\n",
       "    <tr style=\"text-align: right;\">\n",
       "      <th></th>\n",
       "      <th>filename</th>\n",
       "      <th>tempo</th>\n",
       "      <th>beats</th>\n",
       "      <th>chroma_stft</th>\n",
       "      <th>rmse</th>\n",
       "      <th>spectral_centroid</th>\n",
       "      <th>spectral_bandwidth</th>\n",
       "      <th>rolloff</th>\n",
       "      <th>zero_crossing_rate</th>\n",
       "      <th>mfcc1</th>\n",
       "      <th>...</th>\n",
       "      <th>mfcc12</th>\n",
       "      <th>mfcc13</th>\n",
       "      <th>mfcc14</th>\n",
       "      <th>mfcc15</th>\n",
       "      <th>mfcc16</th>\n",
       "      <th>mfcc17</th>\n",
       "      <th>mfcc18</th>\n",
       "      <th>mfcc19</th>\n",
       "      <th>mfcc20</th>\n",
       "      <th>label</th>\n",
       "    </tr>\n",
       "  </thead>\n",
       "  <tbody>\n",
       "    <tr>\n",
       "      <th>995</th>\n",
       "      <td>rock.00017.au</td>\n",
       "      <td>123.046875</td>\n",
       "      <td>59</td>\n",
       "      <td>0.418812</td>\n",
       "      <td>0.166056</td>\n",
       "      <td>2312.030070</td>\n",
       "      <td>2060.825761</td>\n",
       "      <td>4528.197619</td>\n",
       "      <td>0.140588</td>\n",
       "      <td>-41.402023</td>\n",
       "      <td>...</td>\n",
       "      <td>11.303100</td>\n",
       "      <td>-14.155566</td>\n",
       "      <td>2.824157</td>\n",
       "      <td>-9.477822</td>\n",
       "      <td>3.331261</td>\n",
       "      <td>-8.200088</td>\n",
       "      <td>3.693091</td>\n",
       "      <td>-3.673562</td>\n",
       "      <td>-0.163201</td>\n",
       "      <td>rock</td>\n",
       "    </tr>\n",
       "    <tr>\n",
       "      <th>996</th>\n",
       "      <td>rock.00081.au</td>\n",
       "      <td>117.453835</td>\n",
       "      <td>56</td>\n",
       "      <td>0.335774</td>\n",
       "      <td>0.093676</td>\n",
       "      <td>2553.856706</td>\n",
       "      <td>2219.090892</td>\n",
       "      <td>5123.752351</td>\n",
       "      <td>0.136173</td>\n",
       "      <td>-121.410791</td>\n",
       "      <td>...</td>\n",
       "      <td>9.149520</td>\n",
       "      <td>-10.112054</td>\n",
       "      <td>4.211237</td>\n",
       "      <td>-9.349345</td>\n",
       "      <td>1.609701</td>\n",
       "      <td>-10.553566</td>\n",
       "      <td>1.066489</td>\n",
       "      <td>-1.654875</td>\n",
       "      <td>7.544224</td>\n",
       "      <td>rock</td>\n",
       "    </tr>\n",
       "    <tr>\n",
       "      <th>997</th>\n",
       "      <td>rock.00004.au</td>\n",
       "      <td>103.359375</td>\n",
       "      <td>45</td>\n",
       "      <td>0.372834</td>\n",
       "      <td>0.208743</td>\n",
       "      <td>1345.850763</td>\n",
       "      <td>1841.748033</td>\n",
       "      <td>2939.265560</td>\n",
       "      <td>0.041099</td>\n",
       "      <td>-127.946876</td>\n",
       "      <td>...</td>\n",
       "      <td>11.043714</td>\n",
       "      <td>-8.385375</td>\n",
       "      <td>2.111019</td>\n",
       "      <td>-6.338260</td>\n",
       "      <td>0.997383</td>\n",
       "      <td>-5.325869</td>\n",
       "      <td>-0.842192</td>\n",
       "      <td>-4.665996</td>\n",
       "      <td>-4.787677</td>\n",
       "      <td>rock</td>\n",
       "    </tr>\n",
       "    <tr>\n",
       "      <th>998</th>\n",
       "      <td>rock.00006.au</td>\n",
       "      <td>112.347147</td>\n",
       "      <td>45</td>\n",
       "      <td>0.344472</td>\n",
       "      <td>0.180163</td>\n",
       "      <td>1675.475369</td>\n",
       "      <td>1653.422860</td>\n",
       "      <td>3253.563659</td>\n",
       "      <td>0.087294</td>\n",
       "      <td>-98.356322</td>\n",
       "      <td>...</td>\n",
       "      <td>2.945863</td>\n",
       "      <td>-12.509212</td>\n",
       "      <td>0.091337</td>\n",
       "      <td>-0.774780</td>\n",
       "      <td>-5.700102</td>\n",
       "      <td>-8.630916</td>\n",
       "      <td>-1.903803</td>\n",
       "      <td>-2.196753</td>\n",
       "      <td>-3.395148</td>\n",
       "      <td>rock</td>\n",
       "    </tr>\n",
       "    <tr>\n",
       "      <th>999</th>\n",
       "      <td>rock.00066.au</td>\n",
       "      <td>75.999540</td>\n",
       "      <td>36</td>\n",
       "      <td>0.360098</td>\n",
       "      <td>0.042995</td>\n",
       "      <td>2209.357588</td>\n",
       "      <td>2175.214294</td>\n",
       "      <td>4575.588999</td>\n",
       "      <td>0.107147</td>\n",
       "      <td>-245.160921</td>\n",
       "      <td>...</td>\n",
       "      <td>0.813777</td>\n",
       "      <td>-13.018359</td>\n",
       "      <td>0.053168</td>\n",
       "      <td>-8.232851</td>\n",
       "      <td>1.059255</td>\n",
       "      <td>-8.031864</td>\n",
       "      <td>-0.397097</td>\n",
       "      <td>-4.349921</td>\n",
       "      <td>-4.220998</td>\n",
       "      <td>rock</td>\n",
       "    </tr>\n",
       "  </tbody>\n",
       "</table>\n",
       "<p>5 rows × 30 columns</p>\n",
       "</div>"
      ],
      "text/plain": [
       "          filename       tempo  beats  chroma_stft      rmse  \\\n",
       "995  rock.00017.au  123.046875     59     0.418812  0.166056   \n",
       "996  rock.00081.au  117.453835     56     0.335774  0.093676   \n",
       "997  rock.00004.au  103.359375     45     0.372834  0.208743   \n",
       "998  rock.00006.au  112.347147     45     0.344472  0.180163   \n",
       "999  rock.00066.au   75.999540     36     0.360098  0.042995   \n",
       "\n",
       "     spectral_centroid  spectral_bandwidth      rolloff  zero_crossing_rate  \\\n",
       "995        2312.030070         2060.825761  4528.197619            0.140588   \n",
       "996        2553.856706         2219.090892  5123.752351            0.136173   \n",
       "997        1345.850763         1841.748033  2939.265560            0.041099   \n",
       "998        1675.475369         1653.422860  3253.563659            0.087294   \n",
       "999        2209.357588         2175.214294  4575.588999            0.107147   \n",
       "\n",
       "          mfcc1  ...     mfcc12     mfcc13    mfcc14    mfcc15    mfcc16  \\\n",
       "995  -41.402023  ...  11.303100 -14.155566  2.824157 -9.477822  3.331261   \n",
       "996 -121.410791  ...   9.149520 -10.112054  4.211237 -9.349345  1.609701   \n",
       "997 -127.946876  ...  11.043714  -8.385375  2.111019 -6.338260  0.997383   \n",
       "998  -98.356322  ...   2.945863 -12.509212  0.091337 -0.774780 -5.700102   \n",
       "999 -245.160921  ...   0.813777 -13.018359  0.053168 -8.232851  1.059255   \n",
       "\n",
       "        mfcc17    mfcc18    mfcc19    mfcc20  label  \n",
       "995  -8.200088  3.693091 -3.673562 -0.163201   rock  \n",
       "996 -10.553566  1.066489 -1.654875  7.544224   rock  \n",
       "997  -5.325869 -0.842192 -4.665996 -4.787677   rock  \n",
       "998  -8.630916 -1.903803 -2.196753 -3.395148   rock  \n",
       "999  -8.031864 -0.397097 -4.349921 -4.220998   rock  \n",
       "\n",
       "[5 rows x 30 columns]"
      ]
     },
     "execution_count": 5,
     "metadata": {},
     "output_type": "execute_result"
    }
   ],
   "source": [
    "df = pd.read_csv('data.csv')\n",
    "df.tail()"
   ]
  },
  {
   "cell_type": "code",
   "execution_count": 7,
   "metadata": {},
   "outputs": [],
   "source": [
    "df = df.drop(['filename'], axis=1)"
   ]
  },
  {
   "cell_type": "code",
   "execution_count": 9,
   "metadata": {},
   "outputs": [],
   "source": [
    "X = np.array(df.drop(['label'], axis=1))\n",
    "y = np.array(df['label'])"
   ]
  },
  {
   "cell_type": "code",
   "execution_count": 10,
   "metadata": {},
   "outputs": [],
   "source": [
    "X_train, X_test, y_train, y_test = train_test_split(X, y)"
   ]
  },
  {
   "cell_type": "code",
   "execution_count": 11,
   "metadata": {},
   "outputs": [
    {
     "data": {
      "text/plain": [
       "KNeighborsClassifier(algorithm='auto', leaf_size=30, metric='minkowski',\n",
       "                     metric_params=None, n_jobs=None, n_neighbors=5, p=2,\n",
       "                     weights='uniform')"
      ]
     },
     "execution_count": 11,
     "metadata": {},
     "output_type": "execute_result"
    }
   ],
   "source": [
    "clf = neighbors.KNeighborsClassifier()\n",
    "clf.fit(X_train, y_train)"
   ]
  },
  {
   "cell_type": "code",
   "execution_count": 14,
   "metadata": {},
   "outputs": [
    {
     "name": "stdout",
     "output_type": "stream",
     "text": [
      "0.316\n"
     ]
    }
   ],
   "source": [
    "accuracy = clf.score(X_test, y_test)\n",
    "print(accuracy)"
   ]
  },
  {
   "cell_type": "code",
   "execution_count": null,
   "metadata": {},
   "outputs": [],
   "source": []
  }
 ],
 "metadata": {
  "kernelspec": {
   "display_name": "Python 3",
   "language": "python",
   "name": "python3"
  },
  "language_info": {
   "codemirror_mode": {
    "name": "ipython",
    "version": 3
   },
   "file_extension": ".py",
   "mimetype": "text/x-python",
   "name": "python",
   "nbconvert_exporter": "python",
   "pygments_lexer": "ipython3",
   "version": "3.7.3"
  }
 },
 "nbformat": 4,
 "nbformat_minor": 2
}
